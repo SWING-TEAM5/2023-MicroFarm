{
 "cells": [
  {
   "cell_type": "code",
   "execution_count": 1,
   "id": "fa5658dc",
   "metadata": {},
   "outputs": [],
   "source": [
    "import numpy as np\n",
    "import pandas as pd"
   ]
  },
  {
   "cell_type": "code",
   "execution_count": 25,
   "id": "ecaa146f",
   "metadata": {},
   "outputs": [
    {
     "data": {
      "text/html": [
       "<div>\n",
       "<style scoped>\n",
       "    .dataframe tbody tr th:only-of-type {\n",
       "        vertical-align: middle;\n",
       "    }\n",
       "\n",
       "    .dataframe tbody tr th {\n",
       "        vertical-align: top;\n",
       "    }\n",
       "\n",
       "    .dataframe thead th {\n",
       "        text-align: right;\n",
       "    }\n",
       "</style>\n",
       "<table border=\"1\" class=\"dataframe\">\n",
       "  <thead>\n",
       "    <tr style=\"text-align: right;\">\n",
       "      <th></th>\n",
       "      <th>Unnamed: 0</th>\n",
       "      <th>수집일</th>\n",
       "      <th>내부CO2(ppm)</th>\n",
       "      <th>내부습도(%)</th>\n",
       "      <th>일사량(W/m-2·s)</th>\n",
       "      <th>외부온도(도)</th>\n",
       "      <th>내부온도(도)</th>\n",
       "      <th>내부질소(t ha-1)</th>\n",
       "      <th>내부인(t ha-1)</th>\n",
       "      <th>생장길이(cm)</th>\n",
       "      <th>열매수</th>\n",
       "    </tr>\n",
       "  </thead>\n",
       "  <tbody>\n",
       "    <tr>\n",
       "      <th>0</th>\n",
       "      <td>0</td>\n",
       "      <td>2018-07-21</td>\n",
       "      <td>421.63</td>\n",
       "      <td>78.46</td>\n",
       "      <td>297.50</td>\n",
       "      <td>29.08</td>\n",
       "      <td>30.46</td>\n",
       "      <td>0</td>\n",
       "      <td>0</td>\n",
       "      <td>0</td>\n",
       "      <td>0</td>\n",
       "    </tr>\n",
       "    <tr>\n",
       "      <th>1</th>\n",
       "      <td>1</td>\n",
       "      <td>2018-07-22</td>\n",
       "      <td>410.08</td>\n",
       "      <td>70.58</td>\n",
       "      <td>284.00</td>\n",
       "      <td>30.13</td>\n",
       "      <td>31.58</td>\n",
       "      <td>0</td>\n",
       "      <td>0</td>\n",
       "      <td>0</td>\n",
       "      <td>0</td>\n",
       "    </tr>\n",
       "    <tr>\n",
       "      <th>2</th>\n",
       "      <td>2</td>\n",
       "      <td>2018-07-23</td>\n",
       "      <td>381.33</td>\n",
       "      <td>71.17</td>\n",
       "      <td>314.92</td>\n",
       "      <td>29.67</td>\n",
       "      <td>31.29</td>\n",
       "      <td>0</td>\n",
       "      <td>0</td>\n",
       "      <td>0</td>\n",
       "      <td>0</td>\n",
       "    </tr>\n",
       "    <tr>\n",
       "      <th>3</th>\n",
       "      <td>3</td>\n",
       "      <td>2018-07-24</td>\n",
       "      <td>380.54</td>\n",
       "      <td>76.58</td>\n",
       "      <td>320.33</td>\n",
       "      <td>29.75</td>\n",
       "      <td>31.17</td>\n",
       "      <td>0</td>\n",
       "      <td>0</td>\n",
       "      <td>0</td>\n",
       "      <td>0</td>\n",
       "    </tr>\n",
       "    <tr>\n",
       "      <th>4</th>\n",
       "      <td>4</td>\n",
       "      <td>2018-07-25</td>\n",
       "      <td>372.25</td>\n",
       "      <td>78.83</td>\n",
       "      <td>249.04</td>\n",
       "      <td>28.96</td>\n",
       "      <td>30.50</td>\n",
       "      <td>0</td>\n",
       "      <td>0</td>\n",
       "      <td>0</td>\n",
       "      <td>0</td>\n",
       "    </tr>\n",
       "  </tbody>\n",
       "</table>\n",
       "</div>"
      ],
      "text/plain": [
       "   Unnamed: 0         수집일  내부CO2(ppm)  내부습도(%)  일사량(W/m-2·s)  외부온도(도)  \\\n",
       "0           0  2018-07-21      421.63    78.46        297.50    29.08   \n",
       "1           1  2018-07-22      410.08    70.58        284.00    30.13   \n",
       "2           2  2018-07-23      381.33    71.17        314.92    29.67   \n",
       "3           3  2018-07-24      380.54    76.58        320.33    29.75   \n",
       "4           4  2018-07-25      372.25    78.83        249.04    28.96   \n",
       "\n",
       "   내부온도(도)  내부질소(t ha-1)  내부인(t ha-1)  생장길이(cm)  열매수  \n",
       "0    30.46             0            0         0    0  \n",
       "1    31.58             0            0         0    0  \n",
       "2    31.29             0            0         0    0  \n",
       "3    31.17             0            0         0    0  \n",
       "4    30.50             0            0         0    0  "
      ]
     },
     "execution_count": 25,
     "metadata": {},
     "output_type": "execute_result"
    }
   ],
   "source": [
    "df = pd.read_csv(\"./data2.csv\")\n",
    "df.head()"
   ]
  },
  {
   "cell_type": "code",
   "execution_count": 26,
   "id": "d0a9611e",
   "metadata": {},
   "outputs": [],
   "source": [
    "df.drop(['Unnamed: 0'], axis = 1, inplace=True)"
   ]
  },
  {
   "cell_type": "code",
   "execution_count": 27,
   "id": "0b6cf60c",
   "metadata": {},
   "outputs": [
    {
     "data": {
      "text/html": [
       "<div>\n",
       "<style scoped>\n",
       "    .dataframe tbody tr th:only-of-type {\n",
       "        vertical-align: middle;\n",
       "    }\n",
       "\n",
       "    .dataframe tbody tr th {\n",
       "        vertical-align: top;\n",
       "    }\n",
       "\n",
       "    .dataframe thead th {\n",
       "        text-align: right;\n",
       "    }\n",
       "</style>\n",
       "<table border=\"1\" class=\"dataframe\">\n",
       "  <thead>\n",
       "    <tr style=\"text-align: right;\">\n",
       "      <th></th>\n",
       "      <th>수집일</th>\n",
       "      <th>내부CO2(ppm)</th>\n",
       "      <th>내부습도(%)</th>\n",
       "      <th>일사량(W/m-2·s)</th>\n",
       "      <th>외부온도(도)</th>\n",
       "      <th>내부온도(도)</th>\n",
       "      <th>내부질소(t ha-1)</th>\n",
       "      <th>내부인(t ha-1)</th>\n",
       "      <th>생장길이(cm)</th>\n",
       "      <th>열매수</th>\n",
       "    </tr>\n",
       "  </thead>\n",
       "  <tbody>\n",
       "    <tr>\n",
       "      <th>0</th>\n",
       "      <td>2018-07-21</td>\n",
       "      <td>421.63</td>\n",
       "      <td>78.46</td>\n",
       "      <td>297.50</td>\n",
       "      <td>29.08</td>\n",
       "      <td>30.46</td>\n",
       "      <td>0</td>\n",
       "      <td>0</td>\n",
       "      <td>0</td>\n",
       "      <td>0</td>\n",
       "    </tr>\n",
       "    <tr>\n",
       "      <th>1</th>\n",
       "      <td>2018-07-22</td>\n",
       "      <td>410.08</td>\n",
       "      <td>70.58</td>\n",
       "      <td>284.00</td>\n",
       "      <td>30.13</td>\n",
       "      <td>31.58</td>\n",
       "      <td>0</td>\n",
       "      <td>0</td>\n",
       "      <td>0</td>\n",
       "      <td>0</td>\n",
       "    </tr>\n",
       "    <tr>\n",
       "      <th>2</th>\n",
       "      <td>2018-07-23</td>\n",
       "      <td>381.33</td>\n",
       "      <td>71.17</td>\n",
       "      <td>314.92</td>\n",
       "      <td>29.67</td>\n",
       "      <td>31.29</td>\n",
       "      <td>0</td>\n",
       "      <td>0</td>\n",
       "      <td>0</td>\n",
       "      <td>0</td>\n",
       "    </tr>\n",
       "    <tr>\n",
       "      <th>3</th>\n",
       "      <td>2018-07-24</td>\n",
       "      <td>380.54</td>\n",
       "      <td>76.58</td>\n",
       "      <td>320.33</td>\n",
       "      <td>29.75</td>\n",
       "      <td>31.17</td>\n",
       "      <td>0</td>\n",
       "      <td>0</td>\n",
       "      <td>0</td>\n",
       "      <td>0</td>\n",
       "    </tr>\n",
       "    <tr>\n",
       "      <th>4</th>\n",
       "      <td>2018-07-25</td>\n",
       "      <td>372.25</td>\n",
       "      <td>78.83</td>\n",
       "      <td>249.04</td>\n",
       "      <td>28.96</td>\n",
       "      <td>30.50</td>\n",
       "      <td>0</td>\n",
       "      <td>0</td>\n",
       "      <td>0</td>\n",
       "      <td>0</td>\n",
       "    </tr>\n",
       "  </tbody>\n",
       "</table>\n",
       "</div>"
      ],
      "text/plain": [
       "          수집일  내부CO2(ppm)  내부습도(%)  일사량(W/m-2·s)  외부온도(도)  내부온도(도)  \\\n",
       "0  2018-07-21      421.63    78.46        297.50    29.08    30.46   \n",
       "1  2018-07-22      410.08    70.58        284.00    30.13    31.58   \n",
       "2  2018-07-23      381.33    71.17        314.92    29.67    31.29   \n",
       "3  2018-07-24      380.54    76.58        320.33    29.75    31.17   \n",
       "4  2018-07-25      372.25    78.83        249.04    28.96    30.50   \n",
       "\n",
       "   내부질소(t ha-1)  내부인(t ha-1)  생장길이(cm)  열매수  \n",
       "0             0            0         0    0  \n",
       "1             0            0         0    0  \n",
       "2             0            0         0    0  \n",
       "3             0            0         0    0  \n",
       "4             0            0         0    0  "
      ]
     },
     "execution_count": 27,
     "metadata": {},
     "output_type": "execute_result"
    }
   ],
   "source": [
    "df.head()"
   ]
  },
  {
   "cell_type": "code",
   "execution_count": 28,
   "id": "99cf84c2",
   "metadata": {},
   "outputs": [],
   "source": [
    "gf1 = pd.read_csv(\"./2018_tomato_Growing-Info_Daily.csv\")\n",
    "gf2 = pd.read_csv(\"./2019_tomato_Growing-Info_Daily.csv\")\n",
    "gf3 = pd.read_csv(\"./2020_tomato_Growing-Info_Daily.csv\")\n",
    "gf4 = pd.read_csv(\"./2021_tomato_Growing-Info_Daily.csv\")\n",
    "gf5 = pd.read_csv(\"./2022_tomato_Growing-Info_Daily.csv\")"
   ]
  },
  {
   "cell_type": "code",
   "execution_count": 29,
   "id": "542079c6",
   "metadata": {},
   "outputs": [
    {
     "data": {
      "text/html": [
       "<div>\n",
       "<style scoped>\n",
       "    .dataframe tbody tr th:only-of-type {\n",
       "        vertical-align: middle;\n",
       "    }\n",
       "\n",
       "    .dataframe tbody tr th {\n",
       "        vertical-align: top;\n",
       "    }\n",
       "\n",
       "    .dataframe thead th {\n",
       "        text-align: right;\n",
       "    }\n",
       "</style>\n",
       "<table border=\"1\" class=\"dataframe\">\n",
       "  <thead>\n",
       "    <tr style=\"text-align: right;\">\n",
       "      <th></th>\n",
       "      <th>조사일</th>\n",
       "      <th>주차</th>\n",
       "      <th>생장길이(cm)</th>\n",
       "      <th>화방높이(cm)</th>\n",
       "      <th>줄기굵기(mm)</th>\n",
       "      <th>엽장(cm)</th>\n",
       "      <th>엽폭(cm)</th>\n",
       "      <th>엽수(개)</th>\n",
       "      <th>개화군(점)</th>\n",
       "      <th>착과군(점)</th>\n",
       "      <th>열매수(개)</th>\n",
       "      <th>최종화방번호(번)</th>\n",
       "    </tr>\n",
       "  </thead>\n",
       "  <tbody>\n",
       "    <tr>\n",
       "      <th>0</th>\n",
       "      <td>2018-10-14</td>\n",
       "      <td>13</td>\n",
       "      <td>3063.0</td>\n",
       "      <td>0.0</td>\n",
       "      <td>7.0</td>\n",
       "      <td>313.0</td>\n",
       "      <td>260.0</td>\n",
       "      <td>31.0</td>\n",
       "      <td>8.0</td>\n",
       "      <td>9.0</td>\n",
       "      <td>101.0</td>\n",
       "      <td>NaN</td>\n",
       "    </tr>\n",
       "    <tr>\n",
       "      <th>1</th>\n",
       "      <td>2018-10-16</td>\n",
       "      <td>13</td>\n",
       "      <td>3063.0</td>\n",
       "      <td>0.0</td>\n",
       "      <td>7.0</td>\n",
       "      <td>313.0</td>\n",
       "      <td>260.0</td>\n",
       "      <td>31.0</td>\n",
       "      <td>8.0</td>\n",
       "      <td>9.0</td>\n",
       "      <td>101.0</td>\n",
       "      <td>NaN</td>\n",
       "    </tr>\n",
       "    <tr>\n",
       "      <th>2</th>\n",
       "      <td>2018-10-23</td>\n",
       "      <td>14</td>\n",
       "      <td>0.0</td>\n",
       "      <td>0.0</td>\n",
       "      <td>7.0</td>\n",
       "      <td>360.0</td>\n",
       "      <td>303.0</td>\n",
       "      <td>22.0</td>\n",
       "      <td>3.0</td>\n",
       "      <td>3.0</td>\n",
       "      <td>112.0</td>\n",
       "      <td>NaN</td>\n",
       "    </tr>\n",
       "    <tr>\n",
       "      <th>3</th>\n",
       "      <td>2018-10-30</td>\n",
       "      <td>15</td>\n",
       "      <td>0.0</td>\n",
       "      <td>0.0</td>\n",
       "      <td>0.0</td>\n",
       "      <td>343.0</td>\n",
       "      <td>280.0</td>\n",
       "      <td>17.0</td>\n",
       "      <td>0.0</td>\n",
       "      <td>0.0</td>\n",
       "      <td>105.0</td>\n",
       "      <td>NaN</td>\n",
       "    </tr>\n",
       "    <tr>\n",
       "      <th>4</th>\n",
       "      <td>2018-11-06</td>\n",
       "      <td>16</td>\n",
       "      <td>0.0</td>\n",
       "      <td>0.0</td>\n",
       "      <td>8.0</td>\n",
       "      <td>335.0</td>\n",
       "      <td>335.0</td>\n",
       "      <td>13.0</td>\n",
       "      <td>0.0</td>\n",
       "      <td>0.0</td>\n",
       "      <td>97.0</td>\n",
       "      <td>NaN</td>\n",
       "    </tr>\n",
       "  </tbody>\n",
       "</table>\n",
       "</div>"
      ],
      "text/plain": [
       "          조사일  주차  생장길이(cm)  화방높이(cm)  줄기굵기(mm)  엽장(cm)  엽폭(cm)  엽수(개)  \\\n",
       "0  2018-10-14  13    3063.0       0.0       7.0   313.0   260.0   31.0   \n",
       "1  2018-10-16  13    3063.0       0.0       7.0   313.0   260.0   31.0   \n",
       "2  2018-10-23  14       0.0       0.0       7.0   360.0   303.0   22.0   \n",
       "3  2018-10-30  15       0.0       0.0       0.0   343.0   280.0   17.0   \n",
       "4  2018-11-06  16       0.0       0.0       8.0   335.0   335.0   13.0   \n",
       "\n",
       "   개화군(점)  착과군(점)  열매수(개)  최종화방번호(번)  \n",
       "0     8.0     9.0   101.0        NaN  \n",
       "1     8.0     9.0   101.0        NaN  \n",
       "2     3.0     3.0   112.0        NaN  \n",
       "3     0.0     0.0   105.0        NaN  \n",
       "4     0.0     0.0    97.0        NaN  "
      ]
     },
     "execution_count": 29,
     "metadata": {},
     "output_type": "execute_result"
    }
   ],
   "source": [
    "gf1.head()"
   ]
  },
  {
   "cell_type": "code",
   "execution_count": 30,
   "id": "f3285fa0",
   "metadata": {},
   "outputs": [
    {
     "data": {
      "text/plain": [
       "array([3063.,    0.,  188.,  310.,  543.,  691.,  903.,  328.,  177.,\n",
       "        173.,  225.,  240.,  246.,  238.,  281.,  318.,  267.,  288.,\n",
       "        241.,  289.,  255.])"
      ]
     },
     "execution_count": 30,
     "metadata": {},
     "output_type": "execute_result"
    }
   ],
   "source": [
    "gf1['생장길이(cm)'].unique()"
   ]
  },
  {
   "cell_type": "code",
   "execution_count": 11,
   "id": "27b11a68",
   "metadata": {},
   "outputs": [],
   "source": [
    "df['생장길이(cm)'] = 0"
   ]
  },
  {
   "cell_type": "code",
   "execution_count": 31,
   "id": "6edab075",
   "metadata": {},
   "outputs": [],
   "source": [
    "cur_idx = 0\n",
    "for index, row in df.iterrows():\n",
    "    if row['수집일'] == gf1.iloc[cur_idx, 0]:\n",
    "        df.iloc[index, 8] = gf1.iloc[cur_idx, 2]\n",
    "        cur_idx += 1"
   ]
  },
  {
   "cell_type": "code",
   "execution_count": 32,
   "id": "0f7e65e2",
   "metadata": {},
   "outputs": [
    {
     "data": {
      "text/plain": [
       "array([   0, 3063,  188,  310,  543,  691,  903,  328,  177,  173,  225,\n",
       "        240,  246,  238,  281,  318,  267,  288,  241,  289,  255,   98,\n",
       "        139,   59,   36,   28, 3124,  125,  230,  198,  167,  192,  190,\n",
       "        212,  175,  204,  213,  209,  193,  174,  202,  239,   86,   75],\n",
       "      dtype=int64)"
      ]
     },
     "execution_count": 32,
     "metadata": {},
     "output_type": "execute_result"
    }
   ],
   "source": [
    "df['생장길이(cm)'].unique()"
   ]
  },
  {
   "cell_type": "code",
   "execution_count": 33,
   "id": "0f0d2191",
   "metadata": {},
   "outputs": [
    {
     "ename": "IndexError",
     "evalue": "index 26 is out of bounds for axis 0 with size 26",
     "output_type": "error",
     "traceback": [
      "\u001b[1;31m---------------------------------------------------------------------------\u001b[0m",
      "\u001b[1;31mIndexError\u001b[0m                                Traceback (most recent call last)",
      "Input \u001b[1;32mIn [33]\u001b[0m, in \u001b[0;36m<cell line: 8>\u001b[1;34m()\u001b[0m\n\u001b[0;32m      7\u001b[0m cur_idx \u001b[38;5;241m=\u001b[39m \u001b[38;5;241m0\u001b[39m\n\u001b[0;32m      8\u001b[0m \u001b[38;5;28;01mfor\u001b[39;00m index, row \u001b[38;5;129;01min\u001b[39;00m df\u001b[38;5;241m.\u001b[39miterrows():\n\u001b[1;32m----> 9\u001b[0m     \u001b[38;5;28;01mif\u001b[39;00m row[\u001b[38;5;124m'\u001b[39m\u001b[38;5;124m수집일\u001b[39m\u001b[38;5;124m'\u001b[39m] \u001b[38;5;241m==\u001b[39m \u001b[43mgf3\u001b[49m\u001b[38;5;241;43m.\u001b[39;49m\u001b[43miloc\u001b[49m\u001b[43m[\u001b[49m\u001b[43mcur_idx\u001b[49m\u001b[43m,\u001b[49m\u001b[43m \u001b[49m\u001b[38;5;241;43m0\u001b[39;49m\u001b[43m]\u001b[49m:\n\u001b[0;32m     10\u001b[0m         df\u001b[38;5;241m.\u001b[39miloc[index, \u001b[38;5;241m8\u001b[39m] \u001b[38;5;241m=\u001b[39m gf3\u001b[38;5;241m.\u001b[39miloc[cur_idx, \u001b[38;5;241m2\u001b[39m]\n\u001b[0;32m     11\u001b[0m         cur_idx \u001b[38;5;241m+\u001b[39m\u001b[38;5;241m=\u001b[39m \u001b[38;5;241m1\u001b[39m\n",
      "File \u001b[1;32mC:\\ProgramData\\Anaconda3\\lib\\site-packages\\pandas\\core\\indexing.py:960\u001b[0m, in \u001b[0;36m_LocationIndexer.__getitem__\u001b[1;34m(self, key)\u001b[0m\n\u001b[0;32m    958\u001b[0m     key \u001b[38;5;241m=\u001b[39m \u001b[38;5;28mtuple\u001b[39m(com\u001b[38;5;241m.\u001b[39mapply_if_callable(x, \u001b[38;5;28mself\u001b[39m\u001b[38;5;241m.\u001b[39mobj) \u001b[38;5;28;01mfor\u001b[39;00m x \u001b[38;5;129;01min\u001b[39;00m key)\n\u001b[0;32m    959\u001b[0m     \u001b[38;5;28;01mif\u001b[39;00m \u001b[38;5;28mself\u001b[39m\u001b[38;5;241m.\u001b[39m_is_scalar_access(key):\n\u001b[1;32m--> 960\u001b[0m         \u001b[38;5;28;01mreturn\u001b[39;00m \u001b[38;5;28;43mself\u001b[39;49m\u001b[38;5;241;43m.\u001b[39;49m\u001b[43mobj\u001b[49m\u001b[38;5;241;43m.\u001b[39;49m\u001b[43m_get_value\u001b[49m\u001b[43m(\u001b[49m\u001b[38;5;241;43m*\u001b[39;49m\u001b[43mkey\u001b[49m\u001b[43m,\u001b[49m\u001b[43m \u001b[49m\u001b[43mtakeable\u001b[49m\u001b[38;5;241;43m=\u001b[39;49m\u001b[38;5;28;43mself\u001b[39;49m\u001b[38;5;241;43m.\u001b[39;49m\u001b[43m_takeable\u001b[49m\u001b[43m)\u001b[49m\n\u001b[0;32m    961\u001b[0m     \u001b[38;5;28;01mreturn\u001b[39;00m \u001b[38;5;28mself\u001b[39m\u001b[38;5;241m.\u001b[39m_getitem_tuple(key)\n\u001b[0;32m    962\u001b[0m \u001b[38;5;28;01melse\u001b[39;00m:\n\u001b[0;32m    963\u001b[0m     \u001b[38;5;66;03m# we by definition only have the 0th axis\u001b[39;00m\n",
      "File \u001b[1;32mC:\\ProgramData\\Anaconda3\\lib\\site-packages\\pandas\\core\\frame.py:3613\u001b[0m, in \u001b[0;36mDataFrame._get_value\u001b[1;34m(self, index, col, takeable)\u001b[0m\n\u001b[0;32m   3611\u001b[0m \u001b[38;5;28;01mif\u001b[39;00m takeable:\n\u001b[0;32m   3612\u001b[0m     series \u001b[38;5;241m=\u001b[39m \u001b[38;5;28mself\u001b[39m\u001b[38;5;241m.\u001b[39m_ixs(col, axis\u001b[38;5;241m=\u001b[39m\u001b[38;5;241m1\u001b[39m)\n\u001b[1;32m-> 3613\u001b[0m     \u001b[38;5;28;01mreturn\u001b[39;00m \u001b[43mseries\u001b[49m\u001b[38;5;241;43m.\u001b[39;49m\u001b[43m_values\u001b[49m\u001b[43m[\u001b[49m\u001b[43mindex\u001b[49m\u001b[43m]\u001b[49m\n\u001b[0;32m   3615\u001b[0m series \u001b[38;5;241m=\u001b[39m \u001b[38;5;28mself\u001b[39m\u001b[38;5;241m.\u001b[39m_get_item_cache(col)\n\u001b[0;32m   3616\u001b[0m engine \u001b[38;5;241m=\u001b[39m \u001b[38;5;28mself\u001b[39m\u001b[38;5;241m.\u001b[39mindex\u001b[38;5;241m.\u001b[39m_engine\n",
      "\u001b[1;31mIndexError\u001b[0m: index 26 is out of bounds for axis 0 with size 26"
     ]
    }
   ],
   "source": [
    "cur_idx = 0\n",
    "for index, row in df.iterrows():\n",
    "    if row['수집일'] == gf2.iloc[cur_idx, 0]:\n",
    "        df.iloc[index, 8] = gf2.iloc[cur_idx, 2]\n",
    "        cur_idx += 1\n",
    "\n",
    "cur_idx = 0\n",
    "for index, row in df.iterrows():\n",
    "    if row['수집일'] == gf3.iloc[cur_idx, 0]:\n",
    "        df.iloc[index, 8] = gf3.iloc[cur_idx, 2]\n",
    "        cur_idx += 1\n",
    "    "
   ]
  },
  {
   "cell_type": "code",
   "execution_count": 34,
   "id": "407a3cd6",
   "metadata": {},
   "outputs": [
    {
     "ename": "IndexError",
     "evalue": "index 18 is out of bounds for axis 0 with size 18",
     "output_type": "error",
     "traceback": [
      "\u001b[1;31m---------------------------------------------------------------------------\u001b[0m",
      "\u001b[1;31mIndexError\u001b[0m                                Traceback (most recent call last)",
      "Input \u001b[1;32mIn [34]\u001b[0m, in \u001b[0;36m<cell line: 2>\u001b[1;34m()\u001b[0m\n\u001b[0;32m      1\u001b[0m cur_idx \u001b[38;5;241m=\u001b[39m \u001b[38;5;241m0\u001b[39m\n\u001b[0;32m      2\u001b[0m \u001b[38;5;28;01mfor\u001b[39;00m index, row \u001b[38;5;129;01min\u001b[39;00m df\u001b[38;5;241m.\u001b[39miterrows():\n\u001b[1;32m----> 3\u001b[0m     \u001b[38;5;28;01mif\u001b[39;00m row[\u001b[38;5;124m'\u001b[39m\u001b[38;5;124m수집일\u001b[39m\u001b[38;5;124m'\u001b[39m] \u001b[38;5;241m==\u001b[39m \u001b[43mgf4\u001b[49m\u001b[38;5;241;43m.\u001b[39;49m\u001b[43miloc\u001b[49m\u001b[43m[\u001b[49m\u001b[43mcur_idx\u001b[49m\u001b[43m,\u001b[49m\u001b[43m \u001b[49m\u001b[38;5;241;43m0\u001b[39;49m\u001b[43m]\u001b[49m:\n\u001b[0;32m      4\u001b[0m         df\u001b[38;5;241m.\u001b[39miloc[index, \u001b[38;5;241m8\u001b[39m] \u001b[38;5;241m=\u001b[39m gf4\u001b[38;5;241m.\u001b[39miloc[cur_idx, \u001b[38;5;241m2\u001b[39m]\n\u001b[0;32m      5\u001b[0m         cur_idx \u001b[38;5;241m+\u001b[39m\u001b[38;5;241m=\u001b[39m \u001b[38;5;241m1\u001b[39m\n",
      "File \u001b[1;32mC:\\ProgramData\\Anaconda3\\lib\\site-packages\\pandas\\core\\indexing.py:960\u001b[0m, in \u001b[0;36m_LocationIndexer.__getitem__\u001b[1;34m(self, key)\u001b[0m\n\u001b[0;32m    958\u001b[0m     key \u001b[38;5;241m=\u001b[39m \u001b[38;5;28mtuple\u001b[39m(com\u001b[38;5;241m.\u001b[39mapply_if_callable(x, \u001b[38;5;28mself\u001b[39m\u001b[38;5;241m.\u001b[39mobj) \u001b[38;5;28;01mfor\u001b[39;00m x \u001b[38;5;129;01min\u001b[39;00m key)\n\u001b[0;32m    959\u001b[0m     \u001b[38;5;28;01mif\u001b[39;00m \u001b[38;5;28mself\u001b[39m\u001b[38;5;241m.\u001b[39m_is_scalar_access(key):\n\u001b[1;32m--> 960\u001b[0m         \u001b[38;5;28;01mreturn\u001b[39;00m \u001b[38;5;28;43mself\u001b[39;49m\u001b[38;5;241;43m.\u001b[39;49m\u001b[43mobj\u001b[49m\u001b[38;5;241;43m.\u001b[39;49m\u001b[43m_get_value\u001b[49m\u001b[43m(\u001b[49m\u001b[38;5;241;43m*\u001b[39;49m\u001b[43mkey\u001b[49m\u001b[43m,\u001b[49m\u001b[43m \u001b[49m\u001b[43mtakeable\u001b[49m\u001b[38;5;241;43m=\u001b[39;49m\u001b[38;5;28;43mself\u001b[39;49m\u001b[38;5;241;43m.\u001b[39;49m\u001b[43m_takeable\u001b[49m\u001b[43m)\u001b[49m\n\u001b[0;32m    961\u001b[0m     \u001b[38;5;28;01mreturn\u001b[39;00m \u001b[38;5;28mself\u001b[39m\u001b[38;5;241m.\u001b[39m_getitem_tuple(key)\n\u001b[0;32m    962\u001b[0m \u001b[38;5;28;01melse\u001b[39;00m:\n\u001b[0;32m    963\u001b[0m     \u001b[38;5;66;03m# we by definition only have the 0th axis\u001b[39;00m\n",
      "File \u001b[1;32mC:\\ProgramData\\Anaconda3\\lib\\site-packages\\pandas\\core\\frame.py:3613\u001b[0m, in \u001b[0;36mDataFrame._get_value\u001b[1;34m(self, index, col, takeable)\u001b[0m\n\u001b[0;32m   3611\u001b[0m \u001b[38;5;28;01mif\u001b[39;00m takeable:\n\u001b[0;32m   3612\u001b[0m     series \u001b[38;5;241m=\u001b[39m \u001b[38;5;28mself\u001b[39m\u001b[38;5;241m.\u001b[39m_ixs(col, axis\u001b[38;5;241m=\u001b[39m\u001b[38;5;241m1\u001b[39m)\n\u001b[1;32m-> 3613\u001b[0m     \u001b[38;5;28;01mreturn\u001b[39;00m \u001b[43mseries\u001b[49m\u001b[38;5;241;43m.\u001b[39;49m\u001b[43m_values\u001b[49m\u001b[43m[\u001b[49m\u001b[43mindex\u001b[49m\u001b[43m]\u001b[49m\n\u001b[0;32m   3615\u001b[0m series \u001b[38;5;241m=\u001b[39m \u001b[38;5;28mself\u001b[39m\u001b[38;5;241m.\u001b[39m_get_item_cache(col)\n\u001b[0;32m   3616\u001b[0m engine \u001b[38;5;241m=\u001b[39m \u001b[38;5;28mself\u001b[39m\u001b[38;5;241m.\u001b[39mindex\u001b[38;5;241m.\u001b[39m_engine\n",
      "\u001b[1;31mIndexError\u001b[0m: index 18 is out of bounds for axis 0 with size 18"
     ]
    }
   ],
   "source": [
    "cur_idx = 0\n",
    "for index, row in df.iterrows():\n",
    "    if row['수집일'] == gf4.iloc[cur_idx, 0]:\n",
    "        df.iloc[index, 8] = gf4.iloc[cur_idx, 2]\n",
    "        cur_idx += 1"
   ]
  },
  {
   "cell_type": "code",
   "execution_count": 35,
   "id": "b31e48cd",
   "metadata": {},
   "outputs": [],
   "source": [
    "cur_idx = 0\n",
    "for index, row in df.iterrows():\n",
    "    if row['수집일'] == gf5.iloc[cur_idx, 0]:\n",
    "        df.iloc[index, 8] = gf5.iloc[cur_idx, 2]\n",
    "        cur_idx += 1"
   ]
  },
  {
   "cell_type": "code",
   "execution_count": 36,
   "id": "a9540a6b",
   "metadata": {},
   "outputs": [
    {
     "data": {
      "text/plain": [
       "array([   0, 3063,  188,  310,  543,  691,  903,  328,  177,  173,  225,\n",
       "        240,  246,  238,  281,  318,  267,  288,  241,  289,  255,   98,\n",
       "        139,   59,   36,   28, 3124,  125,  230,  198,  167,  192,  190,\n",
       "         85,  131,  212,  103,  175,  204,  124,  213,  161,  105,  193,\n",
       "        130,  133,  150,  202,  185,  110,  239,   18,   86,   13,   75,\n",
       "         20,  316,  262,  243,  268,  244], dtype=int64)"
      ]
     },
     "execution_count": 36,
     "metadata": {},
     "output_type": "execute_result"
    }
   ],
   "source": [
    "df['생장길이(cm)'].unique()"
   ]
  },
  {
   "cell_type": "code",
   "execution_count": 18,
   "id": "8022a7b3",
   "metadata": {},
   "outputs": [
    {
     "data": {
      "text/plain": [
       "Index(['수집일', '내부CO2(ppm)', '내부습도(%)', '일사량(W/m-2·s)', '외부온도(도)', '내부온도(도)',\n",
       "       '열매수', '내부질소(t ha-1)', '내부인(t ha-1)', '생장길이(cm)'],\n",
       "      dtype='object')"
      ]
     },
     "execution_count": 18,
     "metadata": {},
     "output_type": "execute_result"
    }
   ],
   "source": [
    "df.columns"
   ]
  },
  {
   "cell_type": "code",
   "execution_count": 19,
   "id": "548ce3ee",
   "metadata": {},
   "outputs": [],
   "source": [
    "df = df[['수집일', '내부CO2(ppm)', '내부습도(%)', '일사량(W/m-2·s)', '외부온도(도)', '내부온도(도)',\n",
    "       '내부질소(t ha-1)', '내부인(t ha-1)', '생장길이(cm)', '열매수']]"
   ]
  },
  {
   "cell_type": "code",
   "execution_count": 20,
   "id": "f888adb4",
   "metadata": {},
   "outputs": [
    {
     "data": {
      "text/html": [
       "<div>\n",
       "<style scoped>\n",
       "    .dataframe tbody tr th:only-of-type {\n",
       "        vertical-align: middle;\n",
       "    }\n",
       "\n",
       "    .dataframe tbody tr th {\n",
       "        vertical-align: top;\n",
       "    }\n",
       "\n",
       "    .dataframe thead th {\n",
       "        text-align: right;\n",
       "    }\n",
       "</style>\n",
       "<table border=\"1\" class=\"dataframe\">\n",
       "  <thead>\n",
       "    <tr style=\"text-align: right;\">\n",
       "      <th></th>\n",
       "      <th>수집일</th>\n",
       "      <th>내부CO2(ppm)</th>\n",
       "      <th>내부습도(%)</th>\n",
       "      <th>일사량(W/m-2·s)</th>\n",
       "      <th>외부온도(도)</th>\n",
       "      <th>내부온도(도)</th>\n",
       "      <th>내부질소(t ha-1)</th>\n",
       "      <th>내부인(t ha-1)</th>\n",
       "      <th>생장길이(cm)</th>\n",
       "      <th>열매수</th>\n",
       "    </tr>\n",
       "  </thead>\n",
       "  <tbody>\n",
       "    <tr>\n",
       "      <th>0</th>\n",
       "      <td>2018-07-21</td>\n",
       "      <td>421.63</td>\n",
       "      <td>78.46</td>\n",
       "      <td>297.50</td>\n",
       "      <td>29.08</td>\n",
       "      <td>30.46</td>\n",
       "      <td>0</td>\n",
       "      <td>0</td>\n",
       "      <td>0</td>\n",
       "      <td>0</td>\n",
       "    </tr>\n",
       "    <tr>\n",
       "      <th>1</th>\n",
       "      <td>2018-07-22</td>\n",
       "      <td>410.08</td>\n",
       "      <td>70.58</td>\n",
       "      <td>284.00</td>\n",
       "      <td>30.13</td>\n",
       "      <td>31.58</td>\n",
       "      <td>0</td>\n",
       "      <td>0</td>\n",
       "      <td>0</td>\n",
       "      <td>0</td>\n",
       "    </tr>\n",
       "    <tr>\n",
       "      <th>2</th>\n",
       "      <td>2018-07-23</td>\n",
       "      <td>381.33</td>\n",
       "      <td>71.17</td>\n",
       "      <td>314.92</td>\n",
       "      <td>29.67</td>\n",
       "      <td>31.29</td>\n",
       "      <td>0</td>\n",
       "      <td>0</td>\n",
       "      <td>0</td>\n",
       "      <td>0</td>\n",
       "    </tr>\n",
       "    <tr>\n",
       "      <th>3</th>\n",
       "      <td>2018-07-24</td>\n",
       "      <td>380.54</td>\n",
       "      <td>76.58</td>\n",
       "      <td>320.33</td>\n",
       "      <td>29.75</td>\n",
       "      <td>31.17</td>\n",
       "      <td>0</td>\n",
       "      <td>0</td>\n",
       "      <td>0</td>\n",
       "      <td>0</td>\n",
       "    </tr>\n",
       "    <tr>\n",
       "      <th>4</th>\n",
       "      <td>2018-07-25</td>\n",
       "      <td>372.25</td>\n",
       "      <td>78.83</td>\n",
       "      <td>249.04</td>\n",
       "      <td>28.96</td>\n",
       "      <td>30.50</td>\n",
       "      <td>0</td>\n",
       "      <td>0</td>\n",
       "      <td>0</td>\n",
       "      <td>0</td>\n",
       "    </tr>\n",
       "  </tbody>\n",
       "</table>\n",
       "</div>"
      ],
      "text/plain": [
       "          수집일  내부CO2(ppm)  내부습도(%)  일사량(W/m-2·s)  외부온도(도)  내부온도(도)  \\\n",
       "0  2018-07-21      421.63    78.46        297.50    29.08    30.46   \n",
       "1  2018-07-22      410.08    70.58        284.00    30.13    31.58   \n",
       "2  2018-07-23      381.33    71.17        314.92    29.67    31.29   \n",
       "3  2018-07-24      380.54    76.58        320.33    29.75    31.17   \n",
       "4  2018-07-25      372.25    78.83        249.04    28.96    30.50   \n",
       "\n",
       "   내부질소(t ha-1)  내부인(t ha-1)  생장길이(cm)  열매수  \n",
       "0             0            0         0    0  \n",
       "1             0            0         0    0  \n",
       "2             0            0         0    0  \n",
       "3             0            0         0    0  \n",
       "4             0            0         0    0  "
      ]
     },
     "execution_count": 20,
     "metadata": {},
     "output_type": "execute_result"
    }
   ],
   "source": [
    "df.head()"
   ]
  },
  {
   "cell_type": "code",
   "execution_count": 37,
   "id": "db1181dc",
   "metadata": {},
   "outputs": [
    {
     "data": {
      "text/plain": [
       "array([  0, 101, 112, 105,  97,  83,  62,   7,  20,  31,  45,  61, 116,\n",
       "       130, 157, 169, 163, 127, 149, 134, 126, 117,  74,  92,  69,   6,\n",
       "        11,  14,  16,  17,  13,  10,  12,   3,  15,  25,  36,  47,  50,\n",
       "        68,  65,  89,  76,  82,   9], dtype=int64)"
      ]
     },
     "execution_count": 37,
     "metadata": {},
     "output_type": "execute_result"
    }
   ],
   "source": [
    "df['열매수'].unique()"
   ]
  },
  {
   "cell_type": "code",
   "execution_count": 38,
   "id": "425b475f",
   "metadata": {},
   "outputs": [],
   "source": [
    "df.to_csv(\"./data3.csv\")"
   ]
  },
  {
   "cell_type": "code",
   "execution_count": null,
   "id": "8764141f",
   "metadata": {},
   "outputs": [],
   "source": []
  }
 ],
 "metadata": {
  "kernelspec": {
   "display_name": "Python 3 (ipykernel)",
   "language": "python",
   "name": "python3"
  },
  "language_info": {
   "codemirror_mode": {
    "name": "ipython",
    "version": 3
   },
   "file_extension": ".py",
   "mimetype": "text/x-python",
   "name": "python",
   "nbconvert_exporter": "python",
   "pygments_lexer": "ipython3",
   "version": "3.9.12"
  }
 },
 "nbformat": 4,
 "nbformat_minor": 5
}
